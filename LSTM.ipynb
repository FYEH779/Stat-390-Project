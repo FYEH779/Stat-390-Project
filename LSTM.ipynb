{
 "cells": [
  {
   "cell_type": "markdown",
   "metadata": {},
   "source": [
    "not robust to outliers\n",
    "not robust to missing values\n",
    "sensitive to scale of the input features \n",
    "do not assume same interval"
   ]
  },
  {
   "cell_type": "markdown",
   "metadata": {},
   "source": [
    "is it better to use Robust Scaler"
   ]
  },
  {
   "cell_type": "code",
   "execution_count": 1,
   "metadata": {},
   "outputs": [],
   "source": [
    "import pandas as pd\n",
    "import numpy as np\n",
    "import matplotlib.pyplot as plt\n",
    "import seaborn as sns"
   ]
  },
  {
   "cell_type": "code",
   "execution_count": 2,
   "metadata": {},
   "outputs": [
    {
     "data": {
      "text/html": [
       "<div>\n",
       "<style scoped>\n",
       "    .dataframe tbody tr th:only-of-type {\n",
       "        vertical-align: middle;\n",
       "    }\n",
       "\n",
       "    .dataframe tbody tr th {\n",
       "        vertical-align: top;\n",
       "    }\n",
       "\n",
       "    .dataframe thead th {\n",
       "        text-align: right;\n",
       "    }\n",
       "</style>\n",
       "<table border=\"1\" class=\"dataframe\">\n",
       "  <thead>\n",
       "    <tr style=\"text-align: right;\">\n",
       "      <th></th>\n",
       "      <th>iso_code</th>\n",
       "      <th>continent</th>\n",
       "      <th>location</th>\n",
       "      <th>date</th>\n",
       "      <th>total_cases</th>\n",
       "      <th>new_cases</th>\n",
       "      <th>new_cases_smoothed</th>\n",
       "      <th>total_deaths</th>\n",
       "      <th>new_deaths</th>\n",
       "      <th>new_deaths_smoothed</th>\n",
       "      <th>...</th>\n",
       "      <th>male_smokers</th>\n",
       "      <th>handwashing_facilities</th>\n",
       "      <th>hospital_beds_per_thousand</th>\n",
       "      <th>life_expectancy</th>\n",
       "      <th>human_development_index</th>\n",
       "      <th>population</th>\n",
       "      <th>excess_mortality_cumulative_absolute</th>\n",
       "      <th>excess_mortality_cumulative</th>\n",
       "      <th>excess_mortality</th>\n",
       "      <th>excess_mortality_cumulative_per_million</th>\n",
       "    </tr>\n",
       "  </thead>\n",
       "  <tbody>\n",
       "    <tr>\n",
       "      <th>146398</th>\n",
       "      <td>ITA</td>\n",
       "      <td>Europe</td>\n",
       "      <td>Italy</td>\n",
       "      <td>2020-01-03</td>\n",
       "      <td>NaN</td>\n",
       "      <td>0.0</td>\n",
       "      <td>NaN</td>\n",
       "      <td>NaN</td>\n",
       "      <td>0.0</td>\n",
       "      <td>NaN</td>\n",
       "      <td>...</td>\n",
       "      <td>27.8</td>\n",
       "      <td>NaN</td>\n",
       "      <td>3.18</td>\n",
       "      <td>83.51</td>\n",
       "      <td>0.892</td>\n",
       "      <td>59037472</td>\n",
       "      <td>NaN</td>\n",
       "      <td>NaN</td>\n",
       "      <td>NaN</td>\n",
       "      <td>NaN</td>\n",
       "    </tr>\n",
       "    <tr>\n",
       "      <th>146399</th>\n",
       "      <td>ITA</td>\n",
       "      <td>Europe</td>\n",
       "      <td>Italy</td>\n",
       "      <td>2020-01-04</td>\n",
       "      <td>NaN</td>\n",
       "      <td>0.0</td>\n",
       "      <td>NaN</td>\n",
       "      <td>NaN</td>\n",
       "      <td>0.0</td>\n",
       "      <td>NaN</td>\n",
       "      <td>...</td>\n",
       "      <td>27.8</td>\n",
       "      <td>NaN</td>\n",
       "      <td>3.18</td>\n",
       "      <td>83.51</td>\n",
       "      <td>0.892</td>\n",
       "      <td>59037472</td>\n",
       "      <td>NaN</td>\n",
       "      <td>NaN</td>\n",
       "      <td>NaN</td>\n",
       "      <td>NaN</td>\n",
       "    </tr>\n",
       "    <tr>\n",
       "      <th>146400</th>\n",
       "      <td>ITA</td>\n",
       "      <td>Europe</td>\n",
       "      <td>Italy</td>\n",
       "      <td>2020-01-05</td>\n",
       "      <td>NaN</td>\n",
       "      <td>0.0</td>\n",
       "      <td>NaN</td>\n",
       "      <td>NaN</td>\n",
       "      <td>0.0</td>\n",
       "      <td>NaN</td>\n",
       "      <td>...</td>\n",
       "      <td>27.8</td>\n",
       "      <td>NaN</td>\n",
       "      <td>3.18</td>\n",
       "      <td>83.51</td>\n",
       "      <td>0.892</td>\n",
       "      <td>59037472</td>\n",
       "      <td>-1904.1</td>\n",
       "      <td>-12.37</td>\n",
       "      <td>-12.37</td>\n",
       "      <td>-32.00137</td>\n",
       "    </tr>\n",
       "    <tr>\n",
       "      <th>146401</th>\n",
       "      <td>ITA</td>\n",
       "      <td>Europe</td>\n",
       "      <td>Italy</td>\n",
       "      <td>2020-01-06</td>\n",
       "      <td>NaN</td>\n",
       "      <td>0.0</td>\n",
       "      <td>NaN</td>\n",
       "      <td>NaN</td>\n",
       "      <td>0.0</td>\n",
       "      <td>NaN</td>\n",
       "      <td>...</td>\n",
       "      <td>27.8</td>\n",
       "      <td>NaN</td>\n",
       "      <td>3.18</td>\n",
       "      <td>83.51</td>\n",
       "      <td>0.892</td>\n",
       "      <td>59037472</td>\n",
       "      <td>NaN</td>\n",
       "      <td>NaN</td>\n",
       "      <td>NaN</td>\n",
       "      <td>NaN</td>\n",
       "    </tr>\n",
       "    <tr>\n",
       "      <th>146402</th>\n",
       "      <td>ITA</td>\n",
       "      <td>Europe</td>\n",
       "      <td>Italy</td>\n",
       "      <td>2020-01-07</td>\n",
       "      <td>NaN</td>\n",
       "      <td>0.0</td>\n",
       "      <td>NaN</td>\n",
       "      <td>NaN</td>\n",
       "      <td>0.0</td>\n",
       "      <td>NaN</td>\n",
       "      <td>...</td>\n",
       "      <td>27.8</td>\n",
       "      <td>NaN</td>\n",
       "      <td>3.18</td>\n",
       "      <td>83.51</td>\n",
       "      <td>0.892</td>\n",
       "      <td>59037472</td>\n",
       "      <td>NaN</td>\n",
       "      <td>NaN</td>\n",
       "      <td>NaN</td>\n",
       "      <td>NaN</td>\n",
       "    </tr>\n",
       "  </tbody>\n",
       "</table>\n",
       "<p>5 rows × 67 columns</p>\n",
       "</div>"
      ],
      "text/plain": [
       "       iso_code continent location        date  total_cases  new_cases  \\\n",
       "146398      ITA    Europe    Italy  2020-01-03          NaN        0.0   \n",
       "146399      ITA    Europe    Italy  2020-01-04          NaN        0.0   \n",
       "146400      ITA    Europe    Italy  2020-01-05          NaN        0.0   \n",
       "146401      ITA    Europe    Italy  2020-01-06          NaN        0.0   \n",
       "146402      ITA    Europe    Italy  2020-01-07          NaN        0.0   \n",
       "\n",
       "        new_cases_smoothed  total_deaths  new_deaths  new_deaths_smoothed  \\\n",
       "146398                 NaN           NaN         0.0                  NaN   \n",
       "146399                 NaN           NaN         0.0                  NaN   \n",
       "146400                 NaN           NaN         0.0                  NaN   \n",
       "146401                 NaN           NaN         0.0                  NaN   \n",
       "146402                 NaN           NaN         0.0                  NaN   \n",
       "\n",
       "        ...  male_smokers  handwashing_facilities  hospital_beds_per_thousand  \\\n",
       "146398  ...          27.8                     NaN                        3.18   \n",
       "146399  ...          27.8                     NaN                        3.18   \n",
       "146400  ...          27.8                     NaN                        3.18   \n",
       "146401  ...          27.8                     NaN                        3.18   \n",
       "146402  ...          27.8                     NaN                        3.18   \n",
       "\n",
       "        life_expectancy  human_development_index  population  \\\n",
       "146398            83.51                    0.892    59037472   \n",
       "146399            83.51                    0.892    59037472   \n",
       "146400            83.51                    0.892    59037472   \n",
       "146401            83.51                    0.892    59037472   \n",
       "146402            83.51                    0.892    59037472   \n",
       "\n",
       "        excess_mortality_cumulative_absolute  excess_mortality_cumulative  \\\n",
       "146398                                   NaN                          NaN   \n",
       "146399                                   NaN                          NaN   \n",
       "146400                               -1904.1                       -12.37   \n",
       "146401                                   NaN                          NaN   \n",
       "146402                                   NaN                          NaN   \n",
       "\n",
       "        excess_mortality  excess_mortality_cumulative_per_million  \n",
       "146398               NaN                                      NaN  \n",
       "146399               NaN                                      NaN  \n",
       "146400            -12.37                                -32.00137  \n",
       "146401               NaN                                      NaN  \n",
       "146402               NaN                                      NaN  \n",
       "\n",
       "[5 rows x 67 columns]"
      ]
     },
     "execution_count": 2,
     "metadata": {},
     "output_type": "execute_result"
    }
   ],
   "source": [
    "#data = pd.read_excel(\"owid-covid-data.xlsx\")\n",
    "italy_data = data[data['location'] == \"Italy\"]\n",
    "italy_data.head(5)"
   ]
  },
  {
   "cell_type": "code",
   "execution_count": 4,
   "metadata": {},
   "outputs": [
    {
     "name": "stderr",
     "output_type": "stream",
     "text": [
      "/var/folders/n4/3g40sf9n163fj3t1fbrvlns40000gn/T/ipykernel_9541/2190825487.py:1: SettingWithCopyWarning: \n",
      "A value is trying to be set on a copy of a slice from a DataFrame.\n",
      "Try using .loc[row_indexer,col_indexer] = value instead\n",
      "\n",
      "See the caveats in the documentation: https://pandas.pydata.org/pandas-docs/stable/user_guide/indexing.html#returning-a-view-versus-a-copy\n",
      "  italy_data['date'] = pd.to_datetime(italy_data['date'])\n"
     ]
    },
    {
     "data": {
      "text/plain": [
       "Index(['iso_code', 'continent', 'location', 'date', 'total_cases', 'new_cases',\n",
       "       'new_cases_smoothed', 'total_deaths', 'new_deaths',\n",
       "       'new_deaths_smoothed', 'total_cases_per_million',\n",
       "       'new_cases_per_million', 'new_cases_smoothed_per_million',\n",
       "       'total_deaths_per_million', 'new_deaths_per_million',\n",
       "       'new_deaths_smoothed_per_million', 'reproduction_rate', 'icu_patients',\n",
       "       'icu_patients_per_million', 'hosp_patients',\n",
       "       'hosp_patients_per_million', 'weekly_icu_admissions',\n",
       "       'weekly_icu_admissions_per_million', 'weekly_hosp_admissions',\n",
       "       'weekly_hosp_admissions_per_million', 'total_tests', 'new_tests',\n",
       "       'total_tests_per_thousand', 'new_tests_per_thousand',\n",
       "       'new_tests_smoothed', 'new_tests_smoothed_per_thousand',\n",
       "       'positive_rate', 'tests_per_case', 'tests_units', 'total_vaccinations',\n",
       "       'people_vaccinated', 'people_fully_vaccinated', 'total_boosters',\n",
       "       'new_vaccinations', 'new_vaccinations_smoothed',\n",
       "       'total_vaccinations_per_hundred', 'people_vaccinated_per_hundred',\n",
       "       'people_fully_vaccinated_per_hundred', 'total_boosters_per_hundred',\n",
       "       'new_vaccinations_smoothed_per_million',\n",
       "       'new_people_vaccinated_smoothed',\n",
       "       'new_people_vaccinated_smoothed_per_hundred', 'stringency_index',\n",
       "       'population_density', 'median_age', 'aged_65_older', 'aged_70_older',\n",
       "       'gdp_per_capita', 'extreme_poverty', 'cardiovasc_death_rate',\n",
       "       'diabetes_prevalence', 'female_smokers', 'male_smokers',\n",
       "       'handwashing_facilities', 'hospital_beds_per_thousand',\n",
       "       'life_expectancy', 'human_development_index', 'population',\n",
       "       'excess_mortality_cumulative_absolute', 'excess_mortality_cumulative',\n",
       "       'excess_mortality', 'excess_mortality_cumulative_per_million'],\n",
       "      dtype='object')"
      ]
     },
     "execution_count": 4,
     "metadata": {},
     "output_type": "execute_result"
    }
   ],
   "source": [
    "italy_data['date'] = pd.to_datetime(italy_data['date'])\n",
    "italy_data.columns"
   ]
  },
  {
   "cell_type": "code",
   "execution_count": 5,
   "metadata": {},
   "outputs": [],
   "source": [
    "# drop iso_code, contient, and location as the are not relevant\n",
    "italy_data = italy_data.drop(['iso_code', 'continent', 'location'], axis=1)\n",
    "# drop total_cases since it is new_cases accumulated\n",
    "italy_data = italy_data.drop(['total_cases', 'total_cases_per_million'], axis=1)"
   ]
  },
  {
   "cell_type": "code",
   "execution_count": 6,
   "metadata": {},
   "outputs": [
    {
     "name": "stdout",
     "output_type": "stream",
     "text": [
      "date                                          0\n",
      "new_cases                                     6\n",
      "new_cases_smoothed                           11\n",
      "total_deaths                                 51\n",
      "new_deaths                                    6\n",
      "                                           ... \n",
      "population                                    0\n",
      "excess_mortality_cumulative_absolute       1175\n",
      "excess_mortality_cumulative                1175\n",
      "excess_mortality                           1175\n",
      "excess_mortality_cumulative_per_million    1175\n",
      "Length: 62, dtype: int64\n"
     ]
    }
   ],
   "source": [
    "#missing values\n",
    "missing_values_sum = italy_data.isna().sum()\n",
    "print(missing_values_sum)"
   ]
  },
  {
   "cell_type": "code",
   "execution_count": 7,
   "metadata": {},
   "outputs": [
    {
     "name": "stdout",
     "output_type": "stream",
     "text": [
      "14\n"
     ]
    },
    {
     "data": {
      "text/plain": [
       "(1357, 32)"
      ]
     },
     "execution_count": 7,
     "metadata": {},
     "output_type": "execute_result"
    }
   ],
   "source": [
    "# since we are focusing on country level, remove features with more than 30% missingness\n",
    "missing_percentage = italy_data.isnull().mean() * 100\n",
    "columns_to_drop = missing_percentage[missing_percentage > 30].index\n",
    "italy_data.drop(columns=columns_to_drop, inplace=True)\n",
    "# remove quasi-constant features with more than 98% same values\n",
    "#Removing quasi-constant features\n",
    "from sklearn.feature_selection import VarianceThreshold\n",
    "italy_data_temp = italy_data.select_dtypes(include=[np.number])\n",
    "sel = VarianceThreshold(threshold=0.02)  \n",
    "sel.fit(italy_data_temp)  # fit finds the features with low variance\n",
    "sel_idx = italy_data_temp.columns[sel.get_support()]\n",
    "print(\n",
    "    len([\n",
    "        x for x in italy_data_temp.columns\n",
    "        if x not in italy_data_temp.columns[sel.get_support()]\n",
    "    ]))\n",
    "[x for x in italy_data_temp.columns if x not in italy_data_temp.columns[sel.get_support()]]\n",
    "italy_data_temp = sel.transform(italy_data_temp)\n",
    "italy_data_temp = pd.DataFrame(italy_data_temp, columns=sel_idx)\n",
    "italy_data_temp['date'] = italy_data['date']\n",
    "italy_data_temp.shape"
   ]
  },
  {
   "cell_type": "code",
   "execution_count": 8,
   "metadata": {},
   "outputs": [
    {
     "data": {
      "text/plain": [
       "Index(['new_cases', 'new_cases_smoothed', 'total_deaths', 'new_deaths',\n",
       "       'new_deaths_smoothed', 'new_cases_per_million',\n",
       "       'new_cases_smoothed_per_million', 'total_deaths_per_million',\n",
       "       'new_deaths_per_million', 'new_deaths_smoothed_per_million',\n",
       "       'reproduction_rate', 'icu_patients', 'icu_patients_per_million',\n",
       "       'hosp_patients', 'hosp_patients_per_million', 'weekly_icu_admissions',\n",
       "       'weekly_icu_admissions_per_million', 'weekly_hosp_admissions',\n",
       "       'weekly_hosp_admissions_per_million', 'total_vaccinations',\n",
       "       'people_vaccinated', 'people_fully_vaccinated', 'new_vaccinations',\n",
       "       'new_vaccinations_smoothed', 'total_vaccinations_per_hundred',\n",
       "       'people_vaccinated_per_hundred', 'people_fully_vaccinated_per_hundred',\n",
       "       'new_vaccinations_smoothed_per_million',\n",
       "       'new_people_vaccinated_smoothed',\n",
       "       'new_people_vaccinated_smoothed_per_hundred', 'stringency_index',\n",
       "       'date'],\n",
       "      dtype='object')"
      ]
     },
     "execution_count": 8,
     "metadata": {},
     "output_type": "execute_result"
    }
   ],
   "source": [
    "italy_data = italy_data_temp\n",
    "italy_data.columns"
   ]
  },
  {
   "cell_type": "code",
   "execution_count": 10,
   "metadata": {},
   "outputs": [
    {
     "name": "stdout",
     "output_type": "stream",
     "text": [
      "[]\n"
     ]
    },
    {
     "name": "stderr",
     "output_type": "stream",
     "text": [
      "/var/folders/n4/3g40sf9n163fj3t1fbrvlns40000gn/T/ipykernel_9541/1640829968.py:6: FutureWarning: DataFrame.fillna with 'method' is deprecated and will raise in a future version. Use obj.ffill() or obj.bfill() instead.\n",
      "  italy_data = italy_data.fillna(method='ffill')\n"
     ]
    }
   ],
   "source": [
    "# now we want to impute missing values using forward fill\n",
    "nan_start_columns = [col for col in italy_data.columns if italy_data[col].isnull().values[0]]\n",
    "print(nan_start_columns)\n",
    "for col in nan_start_columns:\n",
    "    italy_data.loc[italy_data.index[0], col] = 0\n",
    "italy_data = italy_data.fillna(method='ffill')"
   ]
  },
  {
   "cell_type": "code",
   "execution_count": 11,
   "metadata": {},
   "outputs": [
    {
     "data": {
      "text/plain": [
       "count    1357.000000\n",
       "mean        1.073839\n",
       "std         0.392301\n",
       "min         0.000000\n",
       "25%         0.860000\n",
       "50%         1.070000\n",
       "75%         1.310000\n",
       "max         3.540000\n",
       "Name: reproduction_rate, dtype: float64"
      ]
     },
     "execution_count": 11,
     "metadata": {},
     "output_type": "execute_result"
    }
   ],
   "source": [
    "italy_data['reproduction_rate'].describe()"
   ]
  },
  {
   "cell_type": "code",
   "execution_count": 12,
   "metadata": {},
   "outputs": [
    {
     "data": {
      "text/plain": [
       "[<matplotlib.lines.Line2D at 0x29b18aee0>]"
      ]
     },
     "execution_count": 12,
     "metadata": {},
     "output_type": "execute_result"
    },
    {
     "data": {
      "image/png": "[encoded data removed]",
      "text/plain": [
       "<Figure size 640x480 with 1 Axes>"
      ]
     },
     "metadata": {},
     "output_type": "display_data"
    }
   ],
   "source": [
    "plt.plot(italy_data.index, italy_data['reproduction_rate'], marker='o')"
   ]
  },
  {
   "cell_type": "code",
   "execution_count": 13,
   "metadata": {},
   "outputs": [
    {
     "data": {
      "text/plain": [
       "count    1357.000000\n",
       "mean      813.056006\n",
       "std      1057.194699\n",
       "min         0.000000\n",
       "25%       132.000000\n",
       "50%       327.000000\n",
       "75%      1012.000000\n",
       "max      4068.000000\n",
       "Name: icu_patients, dtype: float64"
      ]
     },
     "execution_count": 13,
     "metadata": {},
     "output_type": "execute_result"
    }
   ],
   "source": [
    "italy_data['icu_patients'].describe()"
   ]
  },
  {
   "cell_type": "code",
   "execution_count": 14,
   "metadata": {},
   "outputs": [
    {
     "name": "stdout",
     "output_type": "stream",
     "text": [
      "new_cases                                     0\n",
      "new_cases_smoothed                            0\n",
      "total_deaths                                  0\n",
      "new_deaths                                    0\n",
      "new_deaths_smoothed                           0\n",
      "new_cases_per_million                         0\n",
      "new_cases_smoothed_per_million                0\n",
      "total_deaths_per_million                      0\n",
      "new_deaths_per_million                        0\n",
      "new_deaths_smoothed_per_million               0\n",
      "reproduction_rate                             0\n",
      "icu_patients                                  0\n",
      "icu_patients_per_million                      0\n",
      "hosp_patients                                 0\n",
      "hosp_patients_per_million                     0\n",
      "weekly_icu_admissions                         0\n",
      "weekly_icu_admissions_per_million             0\n",
      "weekly_hosp_admissions                        0\n",
      "weekly_hosp_admissions_per_million            0\n",
      "total_vaccinations                            0\n",
      "people_vaccinated                             0\n",
      "people_fully_vaccinated                       0\n",
      "new_vaccinations                              0\n",
      "new_vaccinations_smoothed                     0\n",
      "total_vaccinations_per_hundred                0\n",
      "people_vaccinated_per_hundred                 0\n",
      "people_fully_vaccinated_per_hundred           0\n",
      "new_vaccinations_smoothed_per_million         0\n",
      "new_people_vaccinated_smoothed                0\n",
      "new_people_vaccinated_smoothed_per_hundred    0\n",
      "stringency_index                              0\n",
      "date                                          0\n",
      "dtype: int64\n"
     ]
    }
   ],
   "source": [
    "missing_values_sum = italy_data.isna().sum()\n",
    "print(missing_values_sum)"
   ]
  },
  {
   "cell_type": "code",
   "execution_count": null,
   "metadata": {},
   "outputs": [
    {
     "name": "stdout",
     "output_type": "stream",
     "text": [
      "(1157, 32) (200, 32)\n"
     ]
    }
   ],
   "source": [
    "#test train split \n",
    "train=italy_data.iloc[:-14 ]\n",
    "test=italy_data.iloc[-14: ]\n",
    "print(train.shape, test.shape)"
   ]
  },
  {
   "cell_type": "code",
   "execution_count": null,
   "metadata": {},
   "outputs": [],
   "source": []
  }
 ],
 "metadata": {
  "kernelspec": {
   "display_name": "Python 3",
   "language": "python",
   "name": "python3"
  },
  "language_info": {
   "codemirror_mode": {
    "name": "ipython",
    "version": 3
   },
   "file_extension": ".py",
   "mimetype": "text/x-python",
   "name": "python",
   "nbconvert_exporter": "python",
   "pygments_lexer": "ipython3",
   "version": "3.9.6"
  },
  "orig_nbformat": 4
 },
 "nbformat": 4,
 "nbformat_minor": 2
}
